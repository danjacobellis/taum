{
 "cells": [
  {
   "cell_type": "code",
   "execution_count": null,
   "id": "fb65f1f8-a553-4eff-9d12-0dea29163ed4",
   "metadata": {},
   "outputs": [],
   "source": [
    "!rm -rf dist/"
   ]
  },
  {
   "cell_type": "code",
   "execution_count": 1,
   "id": "02267cda-db9e-4461-878e-17e419348107",
   "metadata": {},
   "outputs": [
    {
     "name": "stdout",
     "output_type": "stream",
     "text": [
      "\u001b[1m* Creating virtualenv isolated environment...\u001b[0m\n",
      "\u001b[1m* Installing packages in isolated environment... (setuptools>=42, wheel)\u001b[0m\n",
      "\u001b[1m* Getting build dependencies for sdist...\u001b[0m\n",
      "/tmp/build-env-2hpocsr4/lib/python3.10/site-packages/setuptools/config/expand.py:125: SetuptoolsWarning: File '/home/dgj335/danjacobellis/taum/LICENSE' cannot be found\n",
      "  return '\\n'.join(\n",
      "running egg_info\n",
      "creating src/taum.egg-info\n",
      "writing src/taum.egg-info/PKG-INFO\n",
      "writing dependency_links to src/taum.egg-info/dependency_links.txt\n",
      "writing requirements to src/taum.egg-info/requires.txt\n",
      "writing top-level names to src/taum.egg-info/top_level.txt\n",
      "writing manifest file 'src/taum.egg-info/SOURCES.txt'\n",
      "reading manifest file 'src/taum.egg-info/SOURCES.txt'\n",
      "writing manifest file 'src/taum.egg-info/SOURCES.txt'\n",
      "\u001b[1m* Building sdist...\u001b[0m\n",
      "/tmp/build-env-2hpocsr4/lib/python3.10/site-packages/setuptools/config/expand.py:125: SetuptoolsWarning: File '/home/dgj335/danjacobellis/taum/LICENSE' cannot be found\n",
      "  return '\\n'.join(\n",
      "running sdist\n",
      "running egg_info\n",
      "writing src/taum.egg-info/PKG-INFO\n",
      "writing dependency_links to src/taum.egg-info/dependency_links.txt\n",
      "writing requirements to src/taum.egg-info/requires.txt\n",
      "writing top-level names to src/taum.egg-info/top_level.txt\n",
      "reading manifest file 'src/taum.egg-info/SOURCES.txt'\n",
      "writing manifest file 'src/taum.egg-info/SOURCES.txt'\n",
      "running check\n",
      "creating taum-0.1.0\n",
      "creating taum-0.1.0/src/taum\n",
      "creating taum-0.1.0/src/taum.egg-info\n",
      "copying files to taum-0.1.0...\n",
      "copying README.md -> taum-0.1.0\n",
      "copying pyproject.toml -> taum-0.1.0\n",
      "copying src/taum/__init__.py -> taum-0.1.0/src/taum\n",
      "copying src/taum/utils.py -> taum-0.1.0/src/taum\n",
      "copying src/taum.egg-info/PKG-INFO -> taum-0.1.0/src/taum.egg-info\n",
      "copying src/taum.egg-info/SOURCES.txt -> taum-0.1.0/src/taum.egg-info\n",
      "copying src/taum.egg-info/dependency_links.txt -> taum-0.1.0/src/taum.egg-info\n",
      "copying src/taum.egg-info/requires.txt -> taum-0.1.0/src/taum.egg-info\n",
      "copying src/taum.egg-info/top_level.txt -> taum-0.1.0/src/taum.egg-info\n",
      "copying src/taum.egg-info/SOURCES.txt -> taum-0.1.0/src/taum.egg-info\n",
      "Writing taum-0.1.0/setup.cfg\n",
      "Creating tar archive\n",
      "removing 'taum-0.1.0' (and everything under it)\n",
      "\u001b[1m* Building wheel from sdist\u001b[0m\n",
      "\u001b[1m* Creating virtualenv isolated environment...\u001b[0m\n",
      "\u001b[1m* Installing packages in isolated environment... (setuptools>=42, wheel)\u001b[0m\n",
      "\u001b[1m* Getting build dependencies for wheel...\u001b[0m\n",
      "/tmp/build-env-c5lcmiyt/lib/python3.10/site-packages/setuptools/config/expand.py:125: SetuptoolsWarning: File '/tmp/build-via-sdist-qc4yueck/taum-0.1.0/LICENSE' cannot be found\n",
      "  return '\\n'.join(\n",
      "running egg_info\n",
      "writing src/taum.egg-info/PKG-INFO\n",
      "writing dependency_links to src/taum.egg-info/dependency_links.txt\n",
      "writing requirements to src/taum.egg-info/requires.txt\n",
      "writing top-level names to src/taum.egg-info/top_level.txt\n",
      "reading manifest file 'src/taum.egg-info/SOURCES.txt'\n",
      "writing manifest file 'src/taum.egg-info/SOURCES.txt'\n",
      "\u001b[1m* Building wheel...\u001b[0m\n",
      "/tmp/build-env-c5lcmiyt/lib/python3.10/site-packages/setuptools/config/expand.py:125: SetuptoolsWarning: File '/tmp/build-via-sdist-qc4yueck/taum-0.1.0/LICENSE' cannot be found\n",
      "  return '\\n'.join(\n",
      "running bdist_wheel\n",
      "running build\n",
      "running build_py\n",
      "creating build/lib/taum\n",
      "copying src/taum/__init__.py -> build/lib/taum\n",
      "copying src/taum/utils.py -> build/lib/taum\n",
      "running egg_info\n",
      "writing src/taum.egg-info/PKG-INFO\n",
      "writing dependency_links to src/taum.egg-info/dependency_links.txt\n",
      "writing requirements to src/taum.egg-info/requires.txt\n",
      "writing top-level names to src/taum.egg-info/top_level.txt\n",
      "reading manifest file 'src/taum.egg-info/SOURCES.txt'\n",
      "writing manifest file 'src/taum.egg-info/SOURCES.txt'\n",
      "installing to build/bdist.linux-x86_64/wheel\n",
      "running install\n",
      "running install_lib\n",
      "creating build/bdist.linux-x86_64/wheel\n",
      "creating build/bdist.linux-x86_64/wheel/taum\n",
      "copying build/lib/taum/__init__.py -> build/bdist.linux-x86_64/wheel/./taum\n",
      "copying build/lib/taum/utils.py -> build/bdist.linux-x86_64/wheel/./taum\n",
      "running install_egg_info\n",
      "Copying src/taum.egg-info to build/bdist.linux-x86_64/wheel/./taum-0.1.0-py3.10.egg-info\n",
      "running install_scripts\n",
      "creating build/bdist.linux-x86_64/wheel/taum-0.1.0.dist-info/WHEEL\n",
      "creating '/home/dgj335/danjacobellis/taum/dist/.tmp-yz3bz5c4/taum-0.1.0-py3-none-any.whl' and adding 'build/bdist.linux-x86_64/wheel' to it\n",
      "adding 'taum/__init__.py'\n",
      "adding 'taum/utils.py'\n",
      "adding 'taum-0.1.0.dist-info/METADATA'\n",
      "adding 'taum-0.1.0.dist-info/WHEEL'\n",
      "adding 'taum-0.1.0.dist-info/top_level.txt'\n",
      "adding 'taum-0.1.0.dist-info/RECORD'\n",
      "removing build/bdist.linux-x86_64/wheel\n",
      "\u001b[1m\u001b[92mSuccessfully built \u001b[4mtaum-0.1.0.tar.gz\u001b[0m\u001b[1m\u001b[92m and \u001b[4mtaum-0.1.0-py3-none-any.whl\u001b[0m\u001b[1m\u001b[92m\u001b[0m\n"
     ]
    }
   ],
   "source": [
    "!python3 -m build"
   ]
  },
  {
   "cell_type": "code",
   "execution_count": 2,
   "id": "939498da-b450-4287-8ae0-4f77f6749de6",
   "metadata": {},
   "outputs": [
    {
     "name": "stdout",
     "output_type": "stream",
     "text": [
      "Uploading distributions to https://upload.pypi.org/legacy/\n",
      "Uploading taum-0.1.0-py3-none-any.whl\n",
      "\u001b[2K\u001b[35m100%\u001b[0m \u001b[90m━━━━━━━━━━━━━━━━━━━━━━━━━━━━━━━━━━━━━━━━\u001b[0m \u001b[32m5.1/5.1 kB\u001b[0m • \u001b[33m00:00\u001b[0m • \u001b[31m?\u001b[0m\n",
      "\u001b[?25hUploading taum-0.1.0.tar.gz\n",
      "\u001b[2K\u001b[35m100%\u001b[0m \u001b[90m━━━━━━━━━━━━━━━━━━━━━━━━━━━━━━━━━━━━━━━━\u001b[0m \u001b[32m4.9/4.9 kB\u001b[0m • \u001b[33m00:00\u001b[0m • \u001b[31m?\u001b[0m\n",
      "\u001b[?25h\n",
      "\u001b[32mView at:\u001b[0m\n",
      "https://pypi.org/project/taum/0.1.0/\n"
     ]
    }
   ],
   "source": [
    "!twine upload dist/*"
   ]
  },
  {
   "cell_type": "code",
   "execution_count": 3,
   "id": "c826f15c-6598-4d65-a7c5-a8d03f71e8d1",
   "metadata": {},
   "outputs": [
    {
     "name": "stdout",
     "output_type": "stream",
     "text": [
      "Defaulting to user installation because normal site-packages is not writeable\n",
      "Collecting taum\n",
      "  Downloading taum-0.1.0-py3-none-any.whl.metadata (368 bytes)\n",
      "Requirement already satisfied: torch in /home/dgj335/.local/lib/python3.10/site-packages (from taum) (2.5.1)\n",
      "Requirement already satisfied: torchaudio in /home/dgj335/.local/lib/python3.10/site-packages (from taum) (2.5.1)\n",
      "Requirement already satisfied: filelock in /usr/local/lib/python3.10/dist-packages/filelock-3.13.1-py3.10.egg (from torch->taum) (3.13.1)\n",
      "Requirement already satisfied: typing-extensions>=4.8.0 in /usr/local/lib/python3.10/dist-packages/typing_extensions-4.10.0rc1-py3.10.egg (from torch->taum) (4.10.0rc1)\n",
      "Requirement already satisfied: networkx in /usr/local/lib/python3.10/dist-packages/networkx-3.2.1-py3.10.egg (from torch->taum) (3.2.1)\n",
      "Requirement already satisfied: jinja2 in /home/dgj335/.local/lib/python3.10/site-packages (from torch->taum) (3.1.4)\n",
      "Requirement already satisfied: fsspec in /usr/local/lib/python3.10/dist-packages (from torch->taum) (2023.10.0)\n",
      "Requirement already satisfied: nvidia-cuda-nvrtc-cu12==12.4.127 in /home/dgj335/.local/lib/python3.10/site-packages (from torch->taum) (12.4.127)\n",
      "Requirement already satisfied: nvidia-cuda-runtime-cu12==12.4.127 in /home/dgj335/.local/lib/python3.10/site-packages (from torch->taum) (12.4.127)\n",
      "Requirement already satisfied: nvidia-cuda-cupti-cu12==12.4.127 in /home/dgj335/.local/lib/python3.10/site-packages (from torch->taum) (12.4.127)\n",
      "Requirement already satisfied: nvidia-cudnn-cu12==9.1.0.70 in /home/dgj335/.local/lib/python3.10/site-packages (from torch->taum) (9.1.0.70)\n",
      "Requirement already satisfied: nvidia-cublas-cu12==12.4.5.8 in /home/dgj335/.local/lib/python3.10/site-packages (from torch->taum) (12.4.5.8)\n",
      "Requirement already satisfied: nvidia-cufft-cu12==11.2.1.3 in /home/dgj335/.local/lib/python3.10/site-packages (from torch->taum) (11.2.1.3)\n",
      "Requirement already satisfied: nvidia-curand-cu12==10.3.5.147 in /home/dgj335/.local/lib/python3.10/site-packages (from torch->taum) (10.3.5.147)\n",
      "Requirement already satisfied: nvidia-cusolver-cu12==11.6.1.9 in /home/dgj335/.local/lib/python3.10/site-packages (from torch->taum) (11.6.1.9)\n",
      "Requirement already satisfied: nvidia-cusparse-cu12==12.3.1.170 in /home/dgj335/.local/lib/python3.10/site-packages (from torch->taum) (12.3.1.170)\n",
      "Requirement already satisfied: nvidia-nccl-cu12==2.21.5 in /home/dgj335/.local/lib/python3.10/site-packages (from torch->taum) (2.21.5)\n",
      "Requirement already satisfied: nvidia-nvtx-cu12==12.4.127 in /home/dgj335/.local/lib/python3.10/site-packages (from torch->taum) (12.4.127)\n",
      "Requirement already satisfied: nvidia-nvjitlink-cu12==12.4.127 in /home/dgj335/.local/lib/python3.10/site-packages (from torch->taum) (12.4.127)\n",
      "Requirement already satisfied: triton==3.1.0 in /home/dgj335/.local/lib/python3.10/site-packages (from torch->taum) (3.1.0)\n",
      "Requirement already satisfied: sympy==1.13.1 in /home/dgj335/.local/lib/python3.10/site-packages (from torch->taum) (1.13.1)\n",
      "Requirement already satisfied: mpmath<1.4,>=1.1.0 in /usr/local/lib/python3.10/dist-packages/mpmath-1.3.0-py3.10.egg (from sympy==1.13.1->torch->taum) (1.3.0)\n",
      "Requirement already satisfied: MarkupSafe>=2.0 in /usr/lib/python3/dist-packages (from jinja2->torch->taum) (2.0.1)\n",
      "Downloading taum-0.1.0-py3-none-any.whl (2.0 kB)\n",
      "Installing collected packages: taum\n",
      "Successfully installed taum-0.1.0\n"
     ]
    }
   ],
   "source": [
    "!pip install --upgrade taum"
   ]
  }
 ],
 "metadata": {
  "kernelspec": {
   "display_name": "Python 3 (ipykernel)",
   "language": "python",
   "name": "python3"
  },
  "language_info": {
   "codemirror_mode": {
    "name": "ipython",
    "version": 3
   },
   "file_extension": ".py",
   "mimetype": "text/x-python",
   "name": "python",
   "nbconvert_exporter": "python",
   "pygments_lexer": "ipython3",
   "version": "3.10.12"
  }
 },
 "nbformat": 4,
 "nbformat_minor": 5
}
